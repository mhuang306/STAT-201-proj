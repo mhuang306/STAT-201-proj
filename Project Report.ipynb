{
 "cells": [
  {
   "cell_type": "markdown",
   "id": "ebfc621a-f115-4848-bac2-bdf079d33427",
   "metadata": {},
   "source": [
    "# Title: Comparing Residential and Commercial Real Estate: Price per Square Foot Analysis"
   ]
  },
  {
   "cell_type": "markdown",
   "id": "eeeee63b-2596-4081-922d-2f8ddb34fb88",
   "metadata": {
    "tags": []
   },
   "source": [
    "# Introduction"
   ]
  },
  {
   "cell_type": "markdown",
   "id": "29a88b99-b005-4520-b753-ca56d005bea6",
   "metadata": {},
   "source": [
    "Our project focuses on the extensive Milwaukee real estate dataset spanning from 2002 to 2018, sourced from the official Milwaukee government website. We aim to explore the variations between Residential and Commercial properties in terms of their price per square foot, addressing the following question: \"Is there a significant difference in the price per square foot between Residential and Commercial properties\"\n",
    "\n",
    "For our analysis, we will emphasize two primary parameters:\n",
    "\n",
    "Location Parameter: Mean Price per Square Foot \n",
    "\n",
    "Scale Parameter: Median and Mean Price per Square Foot\n"
   ]
  },
  {
   "cell_type": "markdown",
   "id": "fd06f9ad-556f-4c68-a6d8-2ed3add2faa5",
   "metadata": {},
   "source": [
    "# Preliminary Results"
   ]
  },
  {
   "cell_type": "code",
   "execution_count": null,
   "id": "90173a6a-ade1-4081-b282-7fe8faa7fe06",
   "metadata": {
    "tags": []
   },
   "outputs": [],
   "source": [
    "library(tidyverse)\n",
    "library(repr)\n",
    "library(datateachr)\n",
    "library(digest)\n",
    "library(infer)\n",
    "library(gridExtra)\n",
    "library(cowplot)\n",
    "housing_data <- read.csv(\"https://raw.githubusercontent.com/mhuang306/STAT-201-proj/main/2002-2018-property-sales-data%5B1%5D.csv\")"
   ]
  },
  {
   "cell_type": "markdown",
   "id": "1f789bce-9859-44a6-8541-d9244595cc24",
   "metadata": {},
   "source": [
    "Here, we're importing any libraries that might be necessary for this assignment and reading the csv file off of our group's Github repository"
   ]
  },
  {
   "cell_type": "code",
   "execution_count": null,
   "id": "b6368641-3cb2-4912-9410-78b5730d1297",
   "metadata": {
    "tags": []
   },
   "outputs": [],
   "source": [
    "head(housing_data)"
   ]
  },
  {
   "cell_type": "markdown",
   "id": "6860ac53-ba4f-4c95-9c01-57867db698aa",
   "metadata": {},
   "source": [
    "Here we do the cleaning for the data, removing NA values and zeroes, correcting column types, and stripping it down to just our potential variables of interest"
   ]
  },
  {
   "cell_type": "code",
   "execution_count": null,
   "id": "5aa85f90-623c-4a8d-b061-bb576c1576d5",
   "metadata": {
    "tags": []
   },
   "outputs": [],
   "source": [
    "housing_data <- housing_data |>\n",
    "    select(PropType, Fin_sqft, Sale_price) |>\n",
    "    filter(!is.na(PropType))|>\n",
    "    filter(PropType == \"Residential\" | PropType == \"Commercial\") |>\n",
    "    filter(Fin_sqft != 0, Sale_price != 0) |>\n",
    "    mutate(Price_per_sqft = Sale_price/Fin_sqft)\n",
    "\n",
    "head(housing_data)"
   ]
  },
  {
   "cell_type": "markdown",
   "id": "8d97abae-d865-480e-9bc5-8c2f0e2d0143",
   "metadata": {},
   "source": [
    "Then, we separate the Residential and Commerical data, and plot the histograms of the Price_per_sqft data"
   ]
  },
  {
   "cell_type": "code",
   "execution_count": null,
   "id": "9c938fa9-b483-44e4-bb66-3f046f0ea126",
   "metadata": {
    "tags": []
   },
   "outputs": [],
   "source": [
    "Residential_data <- housing_data |>\n",
    "filter(PropType == \"Residential\" & Price_per_sqft < 1000)|>\n",
    "mutate(Price_per_sqft = round(Price_per_sqft, 0))\n",
    "Commerical_data <- housing_data |>\n",
    "filter(PropType == \"Commercial\" & Price_per_sqft < 1000) |>\n",
    "mutate(Price_per_sqft = round(Price_per_sqft, 0))\n",
    "\n",
    "\n",
    "head(Residential_data)\n",
    "head(Commerical_data)"
   ]
  },
  {
   "cell_type": "code",
   "execution_count": null,
   "id": "05c29fe8-1c5c-4af5-8930-995d5ad652ff",
   "metadata": {
    "tags": []
   },
   "outputs": [],
   "source": [
    "summary_data <- housing_data |>\n",
    "group_by(PropType) |>\n",
    "summarize(mean = mean(Price_per_sqft),\n",
    "         median = median(Price_per_sqft))\n",
    "summary_data"
   ]
  },
  {
   "cell_type": "code",
   "execution_count": null,
   "id": "51237f50-a38b-4dad-bb3e-1887ac6fb75f",
   "metadata": {
    "tags": []
   },
   "outputs": [],
   "source": []
  },
  {
   "cell_type": "code",
   "execution_count": null,
   "id": "b811f799-38f1-4475-93d2-19ef28f6f103",
   "metadata": {
    "tags": []
   },
   "outputs": [],
   "source": [
    "Res_price_per_sqft_dist <- Residential_data |>\n",
    "    ggplot(aes(x = Price_per_sqft)) +\n",
    "    geom_histogram(binwidth = 30) +\n",
    "    labs(x = \"Price Per Sqft\", y = \"Count\") +\n",
    "    ggtitle(\"Distribution of Price Per Sqft of Residential Properties\")\n",
    "Res_price_per_sqft_dist"
   ]
  },
  {
   "cell_type": "code",
   "execution_count": null,
   "id": "1e7022ea-41ba-4cd2-87a8-17f2b9fcc7db",
   "metadata": {
    "tags": []
   },
   "outputs": [],
   "source": [
    "\n",
    "Com_price_per_sqft_dist <- Commerical_data |>\n",
    "    ggplot(aes(x = Price_per_sqft)) +\n",
    "    geom_histogram(binwidth = 30) +\n",
    "    labs(x = \"Price Per Sqft\", y = \"Count\") +\n",
    "    ggtitle(\"Distribution of Price Per Sqft of Commerical Properties\")\n",
    "\n",
    "\n",
    "Com_price_per_sqft_dist\n"
   ]
  },
  {
   "cell_type": "markdown",
   "id": "6387e6b6-b665-458e-af94-45fe5d64db0c",
   "metadata": {},
   "source": [
    "# Methods: Plan"
   ]
  },
  {
   "cell_type": "markdown",
   "id": "81f45215-d216-41e6-8bf6-5f892d77aa7c",
   "metadata": {},
   "source": [
    "\n",
    "\n",
    "The credibility of this report stems from several key elements. Firstly, the dataset used in our analysis is sourced directly from the official Milwaukee government website, ensuring data integrity and reliability. We are committed to robust and transparent data analysis, with a focus on providing reliable results through appropriate statistical testing. Additionally, we welcome feedback from peers and mentors to further enhance the report's trustworthiness.\n",
    "\n",
    "Hypothesis Testing: We will conduct a hypothesis test to evaluate whether there is a significant difference in the mean and median of price per square foot between Residential and Commercial properties. We will compare both bootstrapping and asymptotic methods to ensure robustness and comprehensiveness in our findings.\n",
    "\n",
    "Confidence Intervals: Alongside hypothesis testing, we will calculate confidence intervals for the mean price per square foot for both property types. These intervals will provide a range of values within which we can be confident the true population parameter lies, offering a more complete perspective on property values.\n",
    "\n",
    "We expect that our analysis will reveal insights into the pricing disparities between Residential and Commercial properties. If a statistically significant difference in mean price per square foot exists, this finding can have substantial implications for real estate investors, property developers, and city planners. Stakeholders may use this information to make more informed decisions about property investments, zoning regulations, and urban development strategies.\n"
   ]
  },
  {
   "cell_type": "markdown",
   "id": "c3961396-347b-41b1-9275-29a3f1ca9397",
   "metadata": {},
   "source": [
    "# What future questions could this lead to?\n",
    "The results of this study may lead to several future research questions and avenues for exploration, including:\n",
    "\n",
    "What are the key drivers behind the observed variations in property values, such as location, property size, neighborhood amenities, or economic factors?\n",
    "\n",
    "What are the socioeconomic and equity implications of the disparities in property prices, particularly concerning access to housing and business opportunities?\n",
    "\n",
    "How can city planners and policymakers adapt urban development policies to promote balanced and inclusive communities based on the insights from this analysis?\n",
    "\n",
    "These questions reflect the research expectations and potential avenues for further investigation arising from the study's findings.\n",
    "\n",
    "In summary, the results of this analysis have the potential to spark a broader discussion and further research into the dynamics of the real estate market, property investment strategies, and their broader impacts on urban development and socioeconomic equity."
   ]
  },
  {
   "cell_type": "markdown",
   "id": "43eb2516-4df9-4a65-8ce2-4c582aa53c16",
   "metadata": {},
   "source": [
    "# References"
   ]
  },
  {
   "cell_type": "markdown",
   "id": "5974fac4-5291-4620-adc6-36a474f2314b",
   "metadata": {},
   "source": [
    "\n",
    "Dataset:\n",
    "https://www.kaggle.com/datasets/agungpambudi/property-sales-data-real-estate-trends/\n",
    "\n",
    "\n",
    "Other:\n",
    "Clark, Stephen and Lomax, Nik. \"Rent/price ratio for English housing sub-markets using matched sales and rental data.\" Area, vol. 52, no. 1, 2020, https://doi.org/10.1111/area.12555\n",
    "\n",
    "Gougeon, Annik and Moussouni, Oualid. \"Residential real estate sales in 2018: Characteristics of properties sold.\" Statistics Canada, 11 August 2021, https://publications.gc.ca/collections/collection_2021/statcan/46-28-0001/CS462-80001-2021-1-eng.pdf.\n",
    "\n"
   ]
  },
  {
   "cell_type": "code",
   "execution_count": null,
   "id": "bd6f4712-9edf-4022-8acd-246070042157",
   "metadata": {},
   "outputs": [],
   "source": []
  }
 ],
 "metadata": {
  "kernelspec": {
   "display_name": "R",
   "language": "R",
   "name": "ir"
  },
  "language_info": {
   "codemirror_mode": "r",
   "file_extension": ".r",
   "mimetype": "text/x-r-source",
   "name": "R",
   "pygments_lexer": "r",
   "version": "4.2.3"
  }
 },
 "nbformat": 4,
 "nbformat_minor": 5
}
