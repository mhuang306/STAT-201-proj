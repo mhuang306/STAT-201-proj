{
 "cells": [
  {
   "cell_type": "code",
   "execution_count": 10,
   "id": "90173a6a-ade1-4081-b282-7fe8faa7fe06",
   "metadata": {
    "tags": []
   },
   "outputs": [],
   "source": [
    "library(tidyverse)\n",
    "library(repr)\n",
    "library(datateachr)\n",
    "library(digest)\n",
    "library(infer)\n",
    "library(gridExtra)\n",
    "library(cowplot)\n",
    "housing_data <- read.csv(\"https://raw.githubusercontent.com/mhuang306/STAT-201-proj/main/2002-2018-property-sales-data%5B1%5D.csv\")"
   ]
  },
  {
   "cell_type": "code",
   "execution_count": 11,
   "id": "b6368641-3cb2-4912-9410-78b5730d1297",
   "metadata": {
    "tags": []
   },
   "outputs": [
    {
     "data": {
      "text/html": [
       "<table class=\"dataframe\">\n",
       "<caption>A data.frame: 6 × 19</caption>\n",
       "<thead>\n",
       "\t<tr><th></th><th scope=col>PropType</th><th scope=col>Taxkey</th><th scope=col>Address</th><th scope=col>CondoProject</th><th scope=col>District</th><th scope=col>Nbhd</th><th scope=col>Style</th><th scope=col>Extwall</th><th scope=col>Stories</th><th scope=col>Year_Built</th><th scope=col>Nr_of_rms</th><th scope=col>Fin_sqft</th><th scope=col>Units</th><th scope=col>Bdrms</th><th scope=col>Fbath</th><th scope=col>Hbath</th><th scope=col>Lotsize</th><th scope=col>Sale_date</th><th scope=col>Sale_price</th></tr>\n",
       "\t<tr><th></th><th scope=col>&lt;chr&gt;</th><th scope=col>&lt;dbl&gt;</th><th scope=col>&lt;chr&gt;</th><th scope=col>&lt;chr&gt;</th><th scope=col>&lt;int&gt;</th><th scope=col>&lt;int&gt;</th><th scope=col>&lt;chr&gt;</th><th scope=col>&lt;chr&gt;</th><th scope=col>&lt;dbl&gt;</th><th scope=col>&lt;int&gt;</th><th scope=col>&lt;int&gt;</th><th scope=col>&lt;int&gt;</th><th scope=col>&lt;int&gt;</th><th scope=col>&lt;int&gt;</th><th scope=col>&lt;int&gt;</th><th scope=col>&lt;int&gt;</th><th scope=col>&lt;int&gt;</th><th scope=col>&lt;chr&gt;</th><th scope=col>&lt;int&gt;</th></tr>\n",
       "</thead>\n",
       "<tbody>\n",
       "\t<tr><th scope=row>1</th><td>Commercial</td><td>3230461110</td><td>2628 N 6TH ST          </td><td></td><td> 6</td><td>6258</td><td>Commercial Exempt                               </td><td></td><td>2</td><td>1880</td><td>0</td><td> 1840</td><td>1</td><td>0</td><td>0</td><td>0</td><td>12750</td><td>2002-01</td><td> 15900</td></tr>\n",
       "\t<tr><th scope=row>2</th><td>Commercial</td><td>3590192000</td><td>1363 N PROSPECT AV     </td><td></td><td> 3</td><td>6262</td><td>Mansions With Commercial Usage                  </td><td></td><td>2</td><td>1876</td><td>0</td><td> 6377</td><td>1</td><td>0</td><td>0</td><td>0</td><td>11840</td><td>2002-01</td><td>850000</td></tr>\n",
       "\t<tr><th scope=row>3</th><td>Commercial</td><td>4161194000</td><td>617 S 94TH ST          </td><td></td><td>10</td><td>6272</td><td>Service Building                                </td><td></td><td>1</td><td>1954</td><td>0</td><td> 5022</td><td>1</td><td>0</td><td>0</td><td>0</td><td> 9700</td><td>2002-01</td><td>119000</td></tr>\n",
       "\t<tr><th scope=row>4</th><td>Commercial</td><td>1719836000</td><td>3624 W SILVER SPRING DR</td><td></td><td> 1</td><td>6218</td><td>Store Bldg - Multi Story (Store &amp; Apt, Store &amp; O</td><td></td><td>2</td><td>1955</td><td>0</td><td> 6420</td><td>1</td><td>0</td><td>0</td><td>0</td><td> 8792</td><td>2002-01</td><td>210000</td></tr>\n",
       "\t<tr><th scope=row>5</th><td>Commercial</td><td>3480290000</td><td><span style=white-space:pre-wrap>3830 W LISBON AV       </span></td><td></td><td>15</td><td>6254</td><td>Store Bldg - Multi Story (Store &amp; Apt, Store &amp; O</td><td></td><td>2</td><td>1909</td><td>0</td><td> 5956</td><td>1</td><td>0</td><td>0</td><td>0</td><td> 4840</td><td>2002-01</td><td> 48500</td></tr>\n",
       "\t<tr><th scope=row>6</th><td>Commercial</td><td>4069983200</td><td>320 N 76TH ST          </td><td></td><td>10</td><td>6272</td><td>Strip Shopping Center                           </td><td></td><td>1</td><td>1954</td><td>0</td><td>14200</td><td>1</td><td>0</td><td>0</td><td>0</td><td>16696</td><td>2002-01</td><td>885000</td></tr>\n",
       "</tbody>\n",
       "</table>\n"
      ],
      "text/latex": [
       "A data.frame: 6 × 19\n",
       "\\begin{tabular}{r|lllllllllllllllllll}\n",
       "  & PropType & Taxkey & Address & CondoProject & District & Nbhd & Style & Extwall & Stories & Year\\_Built & Nr\\_of\\_rms & Fin\\_sqft & Units & Bdrms & Fbath & Hbath & Lotsize & Sale\\_date & Sale\\_price\\\\\n",
       "  & <chr> & <dbl> & <chr> & <chr> & <int> & <int> & <chr> & <chr> & <dbl> & <int> & <int> & <int> & <int> & <int> & <int> & <int> & <int> & <chr> & <int>\\\\\n",
       "\\hline\n",
       "\t1 & Commercial & 3230461110 & 2628 N 6TH ST           &  &  6 & 6258 & Commercial Exempt                                &  & 2 & 1880 & 0 &  1840 & 1 & 0 & 0 & 0 & 12750 & 2002-01 &  15900\\\\\n",
       "\t2 & Commercial & 3590192000 & 1363 N PROSPECT AV      &  &  3 & 6262 & Mansions With Commercial Usage                   &  & 2 & 1876 & 0 &  6377 & 1 & 0 & 0 & 0 & 11840 & 2002-01 & 850000\\\\\n",
       "\t3 & Commercial & 4161194000 & 617 S 94TH ST           &  & 10 & 6272 & Service Building                                 &  & 1 & 1954 & 0 &  5022 & 1 & 0 & 0 & 0 &  9700 & 2002-01 & 119000\\\\\n",
       "\t4 & Commercial & 1719836000 & 3624 W SILVER SPRING DR &  &  1 & 6218 & Store Bldg - Multi Story (Store \\& Apt, Store \\& O &  & 2 & 1955 & 0 &  6420 & 1 & 0 & 0 & 0 &  8792 & 2002-01 & 210000\\\\\n",
       "\t5 & Commercial & 3480290000 & 3830 W LISBON AV        &  & 15 & 6254 & Store Bldg - Multi Story (Store \\& Apt, Store \\& O &  & 2 & 1909 & 0 &  5956 & 1 & 0 & 0 & 0 &  4840 & 2002-01 &  48500\\\\\n",
       "\t6 & Commercial & 4069983200 & 320 N 76TH ST           &  & 10 & 6272 & Strip Shopping Center                            &  & 1 & 1954 & 0 & 14200 & 1 & 0 & 0 & 0 & 16696 & 2002-01 & 885000\\\\\n",
       "\\end{tabular}\n"
      ],
      "text/markdown": [
       "\n",
       "A data.frame: 6 × 19\n",
       "\n",
       "| <!--/--> | PropType &lt;chr&gt; | Taxkey &lt;dbl&gt; | Address &lt;chr&gt; | CondoProject &lt;chr&gt; | District &lt;int&gt; | Nbhd &lt;int&gt; | Style &lt;chr&gt; | Extwall &lt;chr&gt; | Stories &lt;dbl&gt; | Year_Built &lt;int&gt; | Nr_of_rms &lt;int&gt; | Fin_sqft &lt;int&gt; | Units &lt;int&gt; | Bdrms &lt;int&gt; | Fbath &lt;int&gt; | Hbath &lt;int&gt; | Lotsize &lt;int&gt; | Sale_date &lt;chr&gt; | Sale_price &lt;int&gt; |\n",
       "|---|---|---|---|---|---|---|---|---|---|---|---|---|---|---|---|---|---|---|---|\n",
       "| 1 | Commercial | 3230461110 | 2628 N 6TH ST           | <!----> |  6 | 6258 | Commercial Exempt                                | <!----> | 2 | 1880 | 0 |  1840 | 1 | 0 | 0 | 0 | 12750 | 2002-01 |  15900 |\n",
       "| 2 | Commercial | 3590192000 | 1363 N PROSPECT AV      | <!----> |  3 | 6262 | Mansions With Commercial Usage                   | <!----> | 2 | 1876 | 0 |  6377 | 1 | 0 | 0 | 0 | 11840 | 2002-01 | 850000 |\n",
       "| 3 | Commercial | 4161194000 | 617 S 94TH ST           | <!----> | 10 | 6272 | Service Building                                 | <!----> | 1 | 1954 | 0 |  5022 | 1 | 0 | 0 | 0 |  9700 | 2002-01 | 119000 |\n",
       "| 4 | Commercial | 1719836000 | 3624 W SILVER SPRING DR | <!----> |  1 | 6218 | Store Bldg - Multi Story (Store &amp; Apt, Store &amp; O | <!----> | 2 | 1955 | 0 |  6420 | 1 | 0 | 0 | 0 |  8792 | 2002-01 | 210000 |\n",
       "| 5 | Commercial | 3480290000 | 3830 W LISBON AV        | <!----> | 15 | 6254 | Store Bldg - Multi Story (Store &amp; Apt, Store &amp; O | <!----> | 2 | 1909 | 0 |  5956 | 1 | 0 | 0 | 0 |  4840 | 2002-01 |  48500 |\n",
       "| 6 | Commercial | 4069983200 | 320 N 76TH ST           | <!----> | 10 | 6272 | Strip Shopping Center                            | <!----> | 1 | 1954 | 0 | 14200 | 1 | 0 | 0 | 0 | 16696 | 2002-01 | 885000 |\n",
       "\n"
      ],
      "text/plain": [
       "  PropType   Taxkey     Address                 CondoProject District Nbhd\n",
       "1 Commercial 3230461110 2628 N 6TH ST                         6       6258\n",
       "2 Commercial 3590192000 1363 N PROSPECT AV                    3       6262\n",
       "3 Commercial 4161194000 617 S 94TH ST                        10       6272\n",
       "4 Commercial 1719836000 3624 W SILVER SPRING DR               1       6218\n",
       "5 Commercial 3480290000 3830 W LISBON AV                     15       6254\n",
       "6 Commercial 4069983200 320 N 76TH ST                        10       6272\n",
       "  Style                                            Extwall Stories Year_Built\n",
       "1 Commercial Exempt                                        2       1880      \n",
       "2 Mansions With Commercial Usage                           2       1876      \n",
       "3 Service Building                                         1       1954      \n",
       "4 Store Bldg - Multi Story (Store & Apt, Store & O         2       1955      \n",
       "5 Store Bldg - Multi Story (Store & Apt, Store & O         2       1909      \n",
       "6 Strip Shopping Center                                    1       1954      \n",
       "  Nr_of_rms Fin_sqft Units Bdrms Fbath Hbath Lotsize Sale_date Sale_price\n",
       "1 0          1840    1     0     0     0     12750   2002-01    15900    \n",
       "2 0          6377    1     0     0     0     11840   2002-01   850000    \n",
       "3 0          5022    1     0     0     0      9700   2002-01   119000    \n",
       "4 0          6420    1     0     0     0      8792   2002-01   210000    \n",
       "5 0          5956    1     0     0     0      4840   2002-01    48500    \n",
       "6 0         14200    1     0     0     0     16696   2002-01   885000    "
      ]
     },
     "metadata": {},
     "output_type": "display_data"
    }
   ],
   "source": [
    "head(housing_data)"
   ]
  },
  {
   "cell_type": "markdown",
   "id": "6860ac53-ba4f-4c95-9c01-57867db698aa",
   "metadata": {},
   "source": [
    "Here we do the cleaning for the data, removing NA values, correcting column types, and stripping it down to just our potential variables of interest"
   ]
  },
  {
   "cell_type": "code",
   "execution_count": 13,
   "id": "5aa85f90-623c-4a8d-b061-bb576c1576d5",
   "metadata": {
    "tags": []
   },
   "outputs": [
    {
     "data": {
      "text/html": [
       "<table class=\"dataframe\">\n",
       "<caption>A data.frame: 6 × 6</caption>\n",
       "<thead>\n",
       "\t<tr><th></th><th scope=col>PropType</th><th scope=col>District</th><th scope=col>Nbhd</th><th scope=col>Year_Built</th><th scope=col>Fin_sqft</th><th scope=col>Sale_price</th></tr>\n",
       "\t<tr><th></th><th scope=col>&lt;fct&gt;</th><th scope=col>&lt;int&gt;</th><th scope=col>&lt;int&gt;</th><th scope=col>&lt;int&gt;</th><th scope=col>&lt;int&gt;</th><th scope=col>&lt;int&gt;</th></tr>\n",
       "</thead>\n",
       "<tbody>\n",
       "\t<tr><th scope=row>1</th><td>Residential</td><td> 7</td><td>2960</td><td>1913</td><td>3476</td><td> 42000</td></tr>\n",
       "\t<tr><th scope=row>2</th><td>Residential</td><td> 3</td><td>3170</td><td>1897</td><td>1992</td><td>145000</td></tr>\n",
       "\t<tr><th scope=row>3</th><td>Residential</td><td> 4</td><td>3040</td><td>1907</td><td>2339</td><td> 30000</td></tr>\n",
       "\t<tr><th scope=row>4</th><td>Residential</td><td> 4</td><td>2300</td><td>1890</td><td>2329</td><td> 66500</td></tr>\n",
       "\t<tr><th scope=row>5</th><td>Residential</td><td> 4</td><td>2300</td><td>1891</td><td>7450</td><td>150500</td></tr>\n",
       "\t<tr><th scope=row>6</th><td>Residential</td><td>12</td><td>4120</td><td>1906</td><td>2462</td><td> 75000</td></tr>\n",
       "</tbody>\n",
       "</table>\n"
      ],
      "text/latex": [
       "A data.frame: 6 × 6\n",
       "\\begin{tabular}{r|llllll}\n",
       "  & PropType & District & Nbhd & Year\\_Built & Fin\\_sqft & Sale\\_price\\\\\n",
       "  & <fct> & <int> & <int> & <int> & <int> & <int>\\\\\n",
       "\\hline\n",
       "\t1 & Residential &  7 & 2960 & 1913 & 3476 &  42000\\\\\n",
       "\t2 & Residential &  3 & 3170 & 1897 & 1992 & 145000\\\\\n",
       "\t3 & Residential &  4 & 3040 & 1907 & 2339 &  30000\\\\\n",
       "\t4 & Residential &  4 & 2300 & 1890 & 2329 &  66500\\\\\n",
       "\t5 & Residential &  4 & 2300 & 1891 & 7450 & 150500\\\\\n",
       "\t6 & Residential & 12 & 4120 & 1906 & 2462 &  75000\\\\\n",
       "\\end{tabular}\n"
      ],
      "text/markdown": [
       "\n",
       "A data.frame: 6 × 6\n",
       "\n",
       "| <!--/--> | PropType &lt;fct&gt; | District &lt;int&gt; | Nbhd &lt;int&gt; | Year_Built &lt;int&gt; | Fin_sqft &lt;int&gt; | Sale_price &lt;int&gt; |\n",
       "|---|---|---|---|---|---|---|\n",
       "| 1 | Residential |  7 | 2960 | 1913 | 3476 |  42000 |\n",
       "| 2 | Residential |  3 | 3170 | 1897 | 1992 | 145000 |\n",
       "| 3 | Residential |  4 | 3040 | 1907 | 2339 |  30000 |\n",
       "| 4 | Residential |  4 | 2300 | 1890 | 2329 |  66500 |\n",
       "| 5 | Residential |  4 | 2300 | 1891 | 7450 | 150500 |\n",
       "| 6 | Residential | 12 | 4120 | 1906 | 2462 |  75000 |\n",
       "\n"
      ],
      "text/plain": [
       "  PropType    District Nbhd Year_Built Fin_sqft Sale_price\n",
       "1 Residential  7       2960 1913       3476      42000    \n",
       "2 Residential  3       3170 1897       1992     145000    \n",
       "3 Residential  4       3040 1907       2339      30000    \n",
       "4 Residential  4       2300 1890       2329      66500    \n",
       "5 Residential  4       2300 1891       7450     150500    \n",
       "6 Residential 12       4120 1906       2462      75000    "
      ]
     },
     "metadata": {},
     "output_type": "display_data"
    }
   ],
   "source": [
    "housing_data <- housing_data |>\n",
    "    mutate(PropType = as.factor(PropType)) |>\n",
    "    select(PropType, District, Nbhd, Year_Built, Fin_sqft, Sale_price) |>\n",
    "    drop_na() |>\n",
    "    filter(PropType == \"Residential\")\n",
    "\n",
    "head(housing_data)"
   ]
  },
  {
   "cell_type": "code",
   "execution_count": null,
   "id": "fea85e2b-e60c-4289-b140-a6479d24bf56",
   "metadata": {},
   "outputs": [],
   "source": []
  }
 ],
 "metadata": {
  "kernelspec": {
   "display_name": "R",
   "language": "R",
   "name": "ir"
  },
  "language_info": {
   "codemirror_mode": "r",
   "file_extension": ".r",
   "mimetype": "text/x-r-source",
   "name": "R",
   "pygments_lexer": "r",
   "version": "4.2.3"
  }
 },
 "nbformat": 4,
 "nbformat_minor": 5
}
