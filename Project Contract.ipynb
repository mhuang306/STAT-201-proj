{
 "cells": [
  {
   "cell_type": "markdown",
   "id": "21f7301d-e7b8-4be8-a358-1900c4ec9978",
   "metadata": {
    "tags": []
   },
   "source": [
    "Team Contract STATS 201 Project\n",
    "\n",
    "## Goals:\n",
    "1. Our team aims to successfully complete the statistics project by the specified deadline.\n",
    "2. We intend to demonstrate a strong understanding of statistical concepts and their application to real-world data.\n",
    "3. We want to improve our teamwork and communication skills through this project.\n",
    "4. Effective communication of data insights and findings.\n",
    "5. Workspace organization.\n",
    "\n",
    "## Expectations:\n",
    "1. **Attendance at Meetings:** We expect all team members to attend scheduled meetings punctually. If unable to attend, advance notice should be given.\n",
    "2. **Participation:** Each team member is expected to actively participate in group discussions, share ideas, and contribute to project tasks.\n",
    "3. **Frequency of Communication:** Regular communication is crucial. We will maintain open and prompt communication through our preferred channels (e.g., email, discord).\n",
    "4. **Quality of Work:** All team members are responsible for delivering high-quality work on their assigned tasks, meeting agreed-upon standards.\n",
    "5. **Internal Deadlines:** We will set internal deadlines for different project milestones to avoid last-minute rushes. \n",
    "\n",
    "## Policies & Procedures:\n",
    "1. **Meeting Schedule:** We will schedule regular meetings, preferably once a week, to discuss project progress, address concerns, and plan our next steps.\n",
    "2. **Task Division:** Tasks will be divided based on individual strengths and interests. Each member will take ownership of their assigned tasks.\n",
    "3. **Communication Channel:** We will primarily use email and a shared document platform (e.g., Google Docs) for collaboration and document sharing.\n",
    "4. **Feedback:** Constructive feedback will be provided in a respectful and considerate manner to help improve our work.\n",
    "5. **Conflict Resolution:** In case of disagreements or conflicts, we will first attempt to resolve them within the team through open communication. If necessary, we will seek assistance from our professor.\n",
    "\n",
    "## Consequences:\n",
    "1. **Non-Performance:** If a team member consistently fails to meet the expectations outlined in this contract, we will address the issue through a team discussion. Potential consequences may include revising task assignments or involving the professor if necessary.\n",
    "2. **Missed Deadlines:** If a team member repeatedly misses internal deadlines without valid reasons, the team may reassign tasks or seek assistance from the professor.\n",
    "3. **Lack of Communication:** Inadequate communication can hinder the project's progress. Team members who do not maintain regular communication may be asked to provide updates or explanations for their actions.\n",
    "\n",
    "By signing below, we agree to abide by the terms and expectations outlined in this team contract.\n",
    "\n",
    "Michael Huang \\\n",
    "Xiaoyu Zhang \\\n",
    "Ethan Wang\\\n",
    "Rowan Murphy\n",
    "\n",
    "Oct 4th, 2023\n"
   ]
  },
  {
   "cell_type": "code",
   "execution_count": null,
   "id": "dc7df58e-5dca-4e16-93aa-ecb82bda01af",
   "metadata": {},
   "outputs": [],
   "source": []
  },
  {
   "cell_type": "code",
   "execution_count": null,
   "id": "9b65264a-dd1a-4a20-8cd8-f864500b34a4",
   "metadata": {},
   "outputs": [],
   "source": []
  }
 ],
 "metadata": {
  "kernelspec": {
   "display_name": "R",
   "language": "R",
   "name": "ir"
  },
  "language_info": {
   "codemirror_mode": "r",
   "file_extension": ".r",
   "mimetype": "text/x-r-source",
   "name": "R",
   "pygments_lexer": "r",
   "version": "4.2.3"
  }
 },
 "nbformat": 4,
 "nbformat_minor": 5
}
